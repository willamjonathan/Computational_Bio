{
 "cells": [
  {
   "cell_type": "code",
   "execution_count": 8,
   "metadata": {},
   "outputs": [],
   "source": [
    "def validate_dna(dna_seq):\n",
    "    seqm = dna_seq.upper()\n",
    "\n",
    "    valid = seqm.count(\"A\") + seqm.count(\"C\") + seqm.count(\"G\") + seqm.count(\"T\")\n",
    "    a = len(seqm)%3\n",
    "\n",
    "    if valid == len(seqm) and a==0 :\n",
    "        print(\"Valid\")\n",
    "        return True\n",
    "    else:\n",
    "        print(\"Invalid\")\n",
    "        return False"
   ]
  },
  {
   "cell_type": "code",
   "execution_count": 9,
   "metadata": {},
   "outputs": [],
   "source": [
    "# naga = \"TACGA\"\n",
    "\n",
    "# DNA_strand = list(naga)\n",
    "\n",
    "\n",
    "def DNA_to_complement(x):\n",
    "    complement = []\n",
    "    for i in x:\n",
    "        if i == \"A\":\n",
    "            complement.append(\"T\")\n",
    "        elif i == \"C\":\n",
    "            complement.append(\"G\")\n",
    "        elif i == \"G\":\n",
    "            complement.append(\"C\")\n",
    "        elif i == \"T\":\n",
    "            complement.append(\"A\")\n",
    "    return complement\n"
   ]
  },
  {
   "cell_type": "code",
   "execution_count": 10,
   "metadata": {},
   "outputs": [],
   "source": [
    "def to_mRNA(x):\n",
    "    mRNA = []\n",
    "    for base in x:\n",
    "        if base == \"T\":\n",
    "            mRNA.append(\"U\")\n",
    "        else:\n",
    "            mRNA.append(base)\n",
    "    return mRNA"
   ]
  },
  {
   "cell_type": "markdown",
   "metadata": {},
   "source": [
    "TRANSCRIPTION FUNCTION - DONE"
   ]
  },
  {
   "cell_type": "code",
   "execution_count": 11,
   "metadata": {},
   "outputs": [
    {
     "name": "stdout",
     "output_type": "stream",
     "text": [
      "Valid\n",
      "Your RNA sequence: AAUGCU\n",
      "['A', 'A', 'U', 'G', 'C', 'U']\n"
     ]
    }
   ],
   "source": [
    "def transcription(x):\n",
    "     x = x.upper()\n",
    "     \n",
    "     if validate_dna(x):\n",
    "          a = DNA_to_complement(x)\n",
    "          a = to_mRNA(a)\n",
    "          # print(\"Your RNA sequence:\" + a)\n",
    "          sequence_string = ''.join(a)\n",
    "          print(\"Your RNA sequence: \" + sequence_string)\n",
    "          x = a\n",
    "          return x\n",
    "     else:\n",
    "          print(\"Fix your input\")\n",
    "          return None\n",
    "\n",
    "# z = transcription(naga)\n",
    "# k = \"akukuk\"\n",
    "naga = \"TTACGA\"\n",
    "\n",
    "y = transcription(naga)\n",
    "print(y)"
   ]
  },
  {
   "cell_type": "code",
   "execution_count": 12,
   "metadata": {},
   "outputs": [],
   "source": [
    "def to_protein(x):\n",
    "    protein = []\n",
    "    for i in range(0,len(x),3):\n",
    "        codon = ''.join(x[i:i+3])\n",
    "        protein.append(codon)\n",
    "        i+3\n",
    "    return protein\n"
   ]
  },
  {
   "cell_type": "code",
   "execution_count": 13,
   "metadata": {},
   "outputs": [],
   "source": [
    "def translate_codon(cod):\n",
    "    tc = {\n",
    "        \"UUU\" : \"Phe - (F)\", \"UUC\" : \"Phe - (F)\", \"UUA\" : \"Leu - (L)\", \"UUG\" : \"Leu - (L)\",\n",
    "        \"UCU\" : \"Ser - (S)\", \"UCC\" : \"Ser - (S)\", \"UCA\" : \"Ser - (S)\", \"UCG\" : \"Ser - (S)\",\n",
    "        \"UAU\" : \"Tyr - (Y)\", \"UAC\" : \"Tyr - (Y)\", \"UAA\" : \"_\", \"UAG\" : \"_\", \n",
    "        \"UGU\" : \"Cys - (C)\", \"UGC\" : \"Cys - (C)\", \"UGA\" : \"_\", \"UGG\" : \"Trp - (W)\", \n",
    "\n",
    "        \"CUU\" : \"Leu - (L)\", \"CUC\" : \"Leu - (L)\", \"CUA\" : \"Leu - (L)\", \"CUG\" : \"Leu - (L)\", \n",
    "        \"CCU\" : \"Pro - (P)\", \"CCC\" : \"Pro - (P)\", \"CCA\" : \"Pro - (P)\", \"CCG\" : \"Pro - (P)\", \n",
    "        \"CAU\" : \"His - (H)\", \"CAC\" : \"His - (H)\", \"CAA\" : \"Gln - (Q)\", \"CAG\" : \"Gln - (Q)\",\n",
    "        \"CGU\" : \"Arg - (R)\", \"CGC\" : \"Arg - (R)\", \"CGA\" : \"Arg - (R)\", \"CGG\" : \"Arg - (R)\", \n",
    "\n",
    "        \"AUU\" : \"Ile - (I)\", \"AUC\" : \"Ile - (I)\", \"AUA\" : \"Ile - (I)\", \"AUG\" : \"Met - (M)\", \n",
    "        \"ACU\" : \"Thr - (T)\", \"ACC\" : \"Thr - (T)\", \"ACA\" : \"Thr - (T)\", \"ACG\" : \"Thr - (T)\",\n",
    "        \"AAU\" : \"Asn - (N)\", \"AAC\" : \"Asn - (N)\", \"AAA\" : \"Lys - (K)\", \"AAG\" : \"Lys - (K)\",\n",
    "        \"AGU\" : \"Ser - (S)\", \"AGC\" : \"Ser - (S)\", \"AGA\" : \"Arg - (R)\", \"AGG\" : \"Arg - (R)\", \n",
    "\n",
    "        \"GUU\" : \"Val - (V)\", \"GUC\" : \"Val - (V)\", \"GUA\" : \"Val - (V)\", \"GUG\" : \"Val - (V)\", \n",
    "        \"GCU\" : \"Ala - (A)\", \"GCC\" : \"Ala - (A)\", \"GCA\" : \"Ala - (A)\", \"GCG\" : \"Ala - (A)\", \n",
    "        \"GAU\" : \"Asp - (D)\", \"GAC\" : \"Asp - (D)\", \"GAA\" : \"Glu - (E)\", \"GAG\" : \"Glu - (E)\", \n",
    "        \"GGU\" : \"Gly - (G)\", \"GGC\" : \"Gly - (G)\", \"GGA\" : \"Gly - (G)\", \"GGG\" : \"Gly - (G)\", \n",
    "\n",
    "    }\n",
    "\n",
    "    if cod in tc:\n",
    "        return tc[cod]\n",
    "    \n",
    "    else:\n",
    "        None\n",
    "        "
   ]
  },
  {
   "cell_type": "markdown",
   "metadata": {},
   "source": [
    "TRANSLATION FUNCTION - DONE"
   ]
  },
  {
   "cell_type": "code",
   "execution_count": 14,
   "metadata": {},
   "outputs": [
    {
     "name": "stdout",
     "output_type": "stream",
     "text": [
      "Amino acids: Asn - (N), Ala - (A)\n"
     ]
    }
   ],
   "source": [
    "def translation(y):\n",
    "    x = to_protein(y)\n",
    "    translated_proteins = [translate_codon(codon) for codon in x]\n",
    "    protein_sequence = \", \".join(translated_proteins)\n",
    "    print(\"Amino acids: \" + protein_sequence)\n",
    "    return protein_sequence\n",
    "b = translation(y)"
   ]
  },
  {
   "cell_type": "code",
   "execution_count": 19,
   "metadata": {},
   "outputs": [
    {
     "name": "stdout",
     "output_type": "stream",
     "text": [
      "Valid\n",
      "Your RNA sequence: AAUGCU\n",
      "Amino acids: Asn - (N), Ala - (A)\n"
     ]
    },
    {
     "data": {
      "text/plain": [
       "'Asn - (N), Ala - (A)'"
      ]
     },
     "execution_count": 19,
     "metadata": {},
     "output_type": "execute_result"
    }
   ],
   "source": [
    "input_DNA = \"TTACGA\"\n",
    "def number_1(x):\n",
    "    RNA = transcription(x)\n",
    "    z = translation(RNA)\n",
    "    return z\n",
    "\n",
    "number_1(input_DNA)"
   ]
  }
 ],
 "metadata": {
  "kernelspec": {
   "display_name": "Python 3",
   "language": "python",
   "name": "python3"
  },
  "language_info": {
   "codemirror_mode": {
    "name": "ipython",
    "version": 3
   },
   "file_extension": ".py",
   "mimetype": "text/x-python",
   "name": "python",
   "nbconvert_exporter": "python",
   "pygments_lexer": "ipython3",
   "version": "3.10.11"
  },
  "orig_nbformat": 4
 },
 "nbformat": 4,
 "nbformat_minor": 2
}
