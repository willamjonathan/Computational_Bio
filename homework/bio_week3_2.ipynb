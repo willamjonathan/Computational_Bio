{
 "cells": [
  {
   "cell_type": "markdown",
   "metadata": {},
   "source": [
    "NUMBER 2\n",
    "WILLIAM JONATHAN MULYADI\n",
    "2502045683"
   ]
  },
  {
   "cell_type": "code",
   "execution_count": 77,
   "metadata": {},
   "outputs": [
    {
     "name": "stdout",
     "output_type": "stream",
     "text": [
      "mRNA = AACGCAAAC\n"
     ]
    }
   ],
   "source": [
    "def protein_to_mRNA(x):\n",
    "    table = {\n",
    "        'AUA':'I', 'AUC':'I', 'AUU':'I', 'AUG':'M',\n",
    "        'ACA':'T', 'ACC':'T', 'ACG':'T', 'ACU':'T',\n",
    "        'AAC':'N', 'AAU':'N', 'AAA':'K', 'AAG':'K',\n",
    "        'AGC':'S', 'AGU':'S', 'AGA':'R', 'AGG':'R',\n",
    "        'CUA':'L', 'CUC':'L', 'CUG':'L', 'CUU':'L',\n",
    "        'CCA':'P', 'CCC':'P', 'CCG':'P', 'CCU':'P',\n",
    "        'CAC':'H', 'CAU':'H', 'CAA':'Q', 'CAG':'Q',\n",
    "        'CGA':'R', 'CGC':'R', 'CGG':'R', 'CGU':'R',\n",
    "        'GUA':'V', 'GUC':'V', 'GUG':'V', 'GUU':'V',\n",
    "        'GCA':'A', 'GCC':'A', 'GCG':'A', 'GCU':'A',\n",
    "        'GAC':'D', 'GAU':'D', 'GAA':'E', 'GAG':'E',\n",
    "        'GGA':'G', 'GGC':'G', 'GGG':'G', 'GGU':'G',\n",
    "        'UCA':'S', 'UCC':'S', 'UCG':'S', 'UCU':'S',\n",
    "        'UUC':'F', 'UUU':'F', 'UUA':'L', 'UUG':'L',\n",
    "        'UAC':'Y', 'UAU':'Y', 'UAA':'_', 'UAG':'_',\n",
    "        'UGC':'C', 'UGU':'C', 'UGA':'_', 'UGG':'W',\n",
    "    }\n",
    "    \n",
    "    input_list = list(x)\n",
    "    # print(input_list)\n",
    "    keys = ''\n",
    "    i = 0\n",
    "    \n",
    "    while i < len(input_list):\n",
    "        found = False\n",
    "        for key, value in table.items():\n",
    "            if value == input_list[i]:\n",
    "                keys += key\n",
    "                found = True\n",
    "                break\n",
    "        if found:\n",
    "            i += 1\n",
    "        else:\n",
    "            break\n",
    "    \n",
    "    print(f\"mRNA = {keys}\") \n",
    "    return keys\n",
    "\n",
    "input_AA = \"NAN\"\n",
    "a = protein_to_mRNA(input_AA)\n"
   ]
  },
  {
   "cell_type": "code",
   "execution_count": 78,
   "metadata": {},
   "outputs": [],
   "source": [
    "def count_codons(mRNA):\n",
    "    table = {\n",
    "        'AUA':'I', 'AUC':'I', 'AUU':'I', 'AUG':'M',\n",
    "        'ACA':'T', 'ACC':'T', 'ACG':'T', 'ACU':'T',\n",
    "        'AAC':'N', 'AAU':'N', 'AAA':'K', 'AAG':'K',\n",
    "        'AGC':'S', 'AGU':'S', 'AGA':'R', 'AGG':'R',\n",
    "        'CUA':'L', 'CUC':'L', 'CUG':'L', 'CUU':'L',\n",
    "        'CCA':'P', 'CCC':'P', 'CCG':'P', 'CCU':'P',\n",
    "        'CAC':'H', 'CAU':'H', 'CAA':'Q', 'CAG':'Q',\n",
    "        'CGA':'R', 'CGC':'R', 'CGG':'R', 'CGU':'R',\n",
    "        'GUA':'V', 'GUC':'V', 'GUG':'V', 'GUU':'V',\n",
    "        'GCA':'A', 'GCC':'A', 'GCG':'A', 'GCU':'A',\n",
    "        'GAC':'D', 'GAU':'D', 'GAA':'E', 'GAG':'E',\n",
    "        'GGA':'G', 'GGC':'G', 'GGG':'G', 'GGU':'G',\n",
    "        'UCA':'S', 'UCC':'S', 'UCG':'S', 'UCU':'S',\n",
    "        'UUC':'F', 'UUU':'F', 'UUA':'L', 'UUG':'L',\n",
    "        'UAC':'Y', 'UAU':'Y', 'UAA':'_', 'UAG':'_',\n",
    "        'UGC':'C', 'UGU':'C', 'UGA':'_', 'UGG':'W',\n",
    "    }\n",
    "    \n",
    "    codon_count = {}\n",
    "    i = 0\n",
    "    \n",
    "    while i < len(mRNA):\n",
    "        codon = mRNA[i:i+3]\n",
    "        if codon in codon_count:\n",
    "            codon_count[codon] += 1\n",
    "        else:\n",
    "            codon_count[codon] = 1\n",
    "        i += 3\n",
    "    \n",
    "    for codon, count in codon_count.items():\n",
    "        print(f\"{codon} = {count}\")\n",
    "    \n",
    "    return codon_count"
   ]
  },
  {
   "cell_type": "code",
   "execution_count": 79,
   "metadata": {},
   "outputs": [
    {
     "name": "stdout",
     "output_type": "stream",
     "text": [
      "AAC = 2\n",
      "GCA = 1\n"
     ]
    }
   ],
   "source": [
    "b = count_codons(a)"
   ]
  },
  {
   "cell_type": "code",
   "execution_count": 80,
   "metadata": {},
   "outputs": [
    {
     "name": "stdout",
     "output_type": "stream",
     "text": [
      "mRNA = AACGCAAAC\n",
      "AAC = 2\n",
      "GCA = 1\n"
     ]
    },
    {
     "data": {
      "text/plain": [
       "{'AAC': 2, 'GCA': 1}"
      ]
     },
     "execution_count": 80,
     "metadata": {},
     "output_type": "execute_result"
    }
   ],
   "source": [
    "input_AA= \"NAN\"\n",
    "def number2(x):\n",
    "    a = protein_to_mRNA(x)\n",
    "    b = count_codons(a)\n",
    "    return b\n",
    "\n",
    "number2(input_AA)"
   ]
  }
 ],
 "metadata": {
  "kernelspec": {
   "display_name": "Python 3",
   "language": "python",
   "name": "python3"
  },
  "language_info": {
   "codemirror_mode": {
    "name": "ipython",
    "version": 3
   },
   "file_extension": ".py",
   "mimetype": "text/x-python",
   "name": "python",
   "nbconvert_exporter": "python",
   "pygments_lexer": "ipython3",
   "version": "3.10.11"
  },
  "orig_nbformat": 4
 },
 "nbformat": 4,
 "nbformat_minor": 2
}
